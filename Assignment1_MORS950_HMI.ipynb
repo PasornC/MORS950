{
  "nbformat": 4,
  "nbformat_minor": 0,
  "metadata": {
    "colab": {
      "provenance": [],
      "include_colab_link": true
    },
    "kernelspec": {
      "name": "python3",
      "display_name": "Python 3"
    },
    "language_info": {
      "name": "python"
    }
  },
  "cells": [
    {
      "cell_type": "markdown",
      "metadata": {
        "id": "view-in-github",
        "colab_type": "text"
      },
      "source": [
        "<a href=\"https://colab.research.google.com/github/PasornC/MORS950/blob/main/Assignment1_MORS950_HMI.ipynb\" target=\"_parent\"><img src=\"https://colab.research.google.com/assets/colab-badge.svg\" alt=\"Open In Colab\"/></a>"
      ]
    },
    {
      "cell_type": "code",
      "execution_count": 2,
      "metadata": {
        "id": "TJrR1SaG-w2j"
      },
      "outputs": [],
      "source": [
        "import pandas as pd\n",
        "\n",
        "url_with_data = \"https://mattgroh.com/data/assignment1_customerdata.csv\"\n",
        "df = pd.read_csv(url_with_data)\n",
        "\n",
        "# Ask ChatGPT or your favorite LLM to help you answer the questions.\n",
        "# Treat the LLM like a smart intern who is highly capable at coding but prone to surprising errors.\n",
        "# Ask lots of questions to the LLM when you don't know something, and ask for explanations.\n",
        "# When things go wrong (e.g. Colab notebook telling you there is an error), ask the LLM, \"Are you sure?\""
      ]
    },
    {
      "cell_type": "code",
      "source": [
        "print(\"This dataframe has {} rows and {} columns\".format(df.shape[0], df.shape[1]))\n",
        "print(df.columns)"
      ],
      "metadata": {
        "colab": {
          "base_uri": "https://localhost:8080/"
        },
        "id": "tsuYWZynAKnL",
        "outputId": "190ced43-110b-4858-ee48-a75f01c54d3d"
      },
      "execution_count": 3,
      "outputs": [
        {
          "output_type": "stream",
          "name": "stdout",
          "text": [
            "This dataframe has 7043 rows and 23 columns\n",
            "Index(['customer_id', 'gender', 'senior_citizen', 'partner', 'dependents',\n",
            "       'tenure', 'phone_service', 'multiple_lines', 'internet_service',\n",
            "       'online_security', 'online_backup', 'device_protection', 'tech_support',\n",
            "       'streaming_tv', 'streaming_movies', 'contract', 'paperless_billing',\n",
            "       'payment_method', 'monthly_charges', 'total_charges', 'churn',\n",
            "       'churn_prediction_ml_model_a', 'churn_prediction_ml_model_b'],\n",
            "      dtype='object')\n"
          ]
        }
      ]
    },
    {
      "cell_type": "code",
      "source": [
        "df.head()"
      ],
      "metadata": {
        "id": "U1zY-JKbIR8o",
        "colab": {
          "base_uri": "https://localhost:8080/"
        },
        "outputId": "21fc315b-803d-4705-eef5-832edec2d52b"
      },
      "execution_count": null,
      "outputs": [
        {
          "output_type": "execute_result",
          "data": {
            "text/plain": [
              "   customer_id  gender  senior_citizen  partner  dependents  tenure  \\\n",
              "0            1       0               0        1           0       1   \n",
              "1            2       1               0        0           0      34   \n",
              "2            3       1               0        0           0       2   \n",
              "3            4       1               0        0           0      45   \n",
              "4            5       0               0        0           0       2   \n",
              "\n",
              "   phone_service  multiple_lines  internet_service  online_security  ...  \\\n",
              "0              0               1                 0                0  ...   \n",
              "1              1               0                 0                2  ...   \n",
              "2              1               0                 0                2  ...   \n",
              "3              0               1                 0                2  ...   \n",
              "4              1               0                 1                0  ...   \n",
              "\n",
              "   streaming_tv  streaming_movies  contract  paperless_billing  \\\n",
              "0             0                 0         0                  1   \n",
              "1             0                 0         1                  0   \n",
              "2             0                 0         0                  1   \n",
              "3             0                 0         1                  0   \n",
              "4             0                 0         0                  1   \n",
              "\n",
              "   payment_method  monthly_charges  total_charges  churn  \\\n",
              "0               2            29.85           2505      0   \n",
              "1               3            56.95           1466      0   \n",
              "2               3            53.85            157      1   \n",
              "3               0            42.30           1400      0   \n",
              "4               2            70.70            925      1   \n",
              "\n",
              "   churn_prediction_ml_model_a  churn_prediction_ml_model_b  \n",
              "0                     0.912821                     0.415385  \n",
              "1                     0.538462                     0.102564  \n",
              "2                     0.428205                     0.325641  \n",
              "3                     0.705128                     0.537180  \n",
              "4                     0.743590                     0.229487  \n",
              "\n",
              "[5 rows x 23 columns]"
            ],
            "text/html": [
              "\n",
              "  <div id=\"df-bfd5f6e2-eb17-4dd1-8fd8-807a241672e2\" class=\"colab-df-container\">\n",
              "    <div>\n",
              "<style scoped>\n",
              "    .dataframe tbody tr th:only-of-type {\n",
              "        vertical-align: middle;\n",
              "    }\n",
              "\n",
              "    .dataframe tbody tr th {\n",
              "        vertical-align: top;\n",
              "    }\n",
              "\n",
              "    .dataframe thead th {\n",
              "        text-align: right;\n",
              "    }\n",
              "</style>\n",
              "<table border=\"1\" class=\"dataframe\">\n",
              "  <thead>\n",
              "    <tr style=\"text-align: right;\">\n",
              "      <th></th>\n",
              "      <th>customer_id</th>\n",
              "      <th>gender</th>\n",
              "      <th>senior_citizen</th>\n",
              "      <th>partner</th>\n",
              "      <th>dependents</th>\n",
              "      <th>tenure</th>\n",
              "      <th>phone_service</th>\n",
              "      <th>multiple_lines</th>\n",
              "      <th>internet_service</th>\n",
              "      <th>online_security</th>\n",
              "      <th>...</th>\n",
              "      <th>streaming_tv</th>\n",
              "      <th>streaming_movies</th>\n",
              "      <th>contract</th>\n",
              "      <th>paperless_billing</th>\n",
              "      <th>payment_method</th>\n",
              "      <th>monthly_charges</th>\n",
              "      <th>total_charges</th>\n",
              "      <th>churn</th>\n",
              "      <th>churn_prediction_ml_model_a</th>\n",
              "      <th>churn_prediction_ml_model_b</th>\n",
              "    </tr>\n",
              "  </thead>\n",
              "  <tbody>\n",
              "    <tr>\n",
              "      <th>0</th>\n",
              "      <td>1</td>\n",
              "      <td>0</td>\n",
              "      <td>0</td>\n",
              "      <td>1</td>\n",
              "      <td>0</td>\n",
              "      <td>1</td>\n",
              "      <td>0</td>\n",
              "      <td>1</td>\n",
              "      <td>0</td>\n",
              "      <td>0</td>\n",
              "      <td>...</td>\n",
              "      <td>0</td>\n",
              "      <td>0</td>\n",
              "      <td>0</td>\n",
              "      <td>1</td>\n",
              "      <td>2</td>\n",
              "      <td>29.85</td>\n",
              "      <td>2505</td>\n",
              "      <td>0</td>\n",
              "      <td>0.912821</td>\n",
              "      <td>0.415385</td>\n",
              "    </tr>\n",
              "    <tr>\n",
              "      <th>1</th>\n",
              "      <td>2</td>\n",
              "      <td>1</td>\n",
              "      <td>0</td>\n",
              "      <td>0</td>\n",
              "      <td>0</td>\n",
              "      <td>34</td>\n",
              "      <td>1</td>\n",
              "      <td>0</td>\n",
              "      <td>0</td>\n",
              "      <td>2</td>\n",
              "      <td>...</td>\n",
              "      <td>0</td>\n",
              "      <td>0</td>\n",
              "      <td>1</td>\n",
              "      <td>0</td>\n",
              "      <td>3</td>\n",
              "      <td>56.95</td>\n",
              "      <td>1466</td>\n",
              "      <td>0</td>\n",
              "      <td>0.538462</td>\n",
              "      <td>0.102564</td>\n",
              "    </tr>\n",
              "    <tr>\n",
              "      <th>2</th>\n",
              "      <td>3</td>\n",
              "      <td>1</td>\n",
              "      <td>0</td>\n",
              "      <td>0</td>\n",
              "      <td>0</td>\n",
              "      <td>2</td>\n",
              "      <td>1</td>\n",
              "      <td>0</td>\n",
              "      <td>0</td>\n",
              "      <td>2</td>\n",
              "      <td>...</td>\n",
              "      <td>0</td>\n",
              "      <td>0</td>\n",
              "      <td>0</td>\n",
              "      <td>1</td>\n",
              "      <td>3</td>\n",
              "      <td>53.85</td>\n",
              "      <td>157</td>\n",
              "      <td>1</td>\n",
              "      <td>0.428205</td>\n",
              "      <td>0.325641</td>\n",
              "    </tr>\n",
              "    <tr>\n",
              "      <th>3</th>\n",
              "      <td>4</td>\n",
              "      <td>1</td>\n",
              "      <td>0</td>\n",
              "      <td>0</td>\n",
              "      <td>0</td>\n",
              "      <td>45</td>\n",
              "      <td>0</td>\n",
              "      <td>1</td>\n",
              "      <td>0</td>\n",
              "      <td>2</td>\n",
              "      <td>...</td>\n",
              "      <td>0</td>\n",
              "      <td>0</td>\n",
              "      <td>1</td>\n",
              "      <td>0</td>\n",
              "      <td>0</td>\n",
              "      <td>42.30</td>\n",
              "      <td>1400</td>\n",
              "      <td>0</td>\n",
              "      <td>0.705128</td>\n",
              "      <td>0.537180</td>\n",
              "    </tr>\n",
              "    <tr>\n",
              "      <th>4</th>\n",
              "      <td>5</td>\n",
              "      <td>0</td>\n",
              "      <td>0</td>\n",
              "      <td>0</td>\n",
              "      <td>0</td>\n",
              "      <td>2</td>\n",
              "      <td>1</td>\n",
              "      <td>0</td>\n",
              "      <td>1</td>\n",
              "      <td>0</td>\n",
              "      <td>...</td>\n",
              "      <td>0</td>\n",
              "      <td>0</td>\n",
              "      <td>0</td>\n",
              "      <td>1</td>\n",
              "      <td>2</td>\n",
              "      <td>70.70</td>\n",
              "      <td>925</td>\n",
              "      <td>1</td>\n",
              "      <td>0.743590</td>\n",
              "      <td>0.229487</td>\n",
              "    </tr>\n",
              "  </tbody>\n",
              "</table>\n",
              "<p>5 rows × 23 columns</p>\n",
              "</div>\n",
              "    <div class=\"colab-df-buttons\">\n",
              "\n",
              "  <div class=\"colab-df-container\">\n",
              "    <button class=\"colab-df-convert\" onclick=\"convertToInteractive('df-bfd5f6e2-eb17-4dd1-8fd8-807a241672e2')\"\n",
              "            title=\"Convert this dataframe to an interactive table.\"\n",
              "            style=\"display:none;\">\n",
              "\n",
              "  <svg xmlns=\"http://www.w3.org/2000/svg\" height=\"24px\" viewBox=\"0 -960 960 960\">\n",
              "    <path d=\"M120-120v-720h720v720H120Zm60-500h600v-160H180v160Zm220 220h160v-160H400v160Zm0 220h160v-160H400v160ZM180-400h160v-160H180v160Zm440 0h160v-160H620v160ZM180-180h160v-160H180v160Zm440 0h160v-160H620v160Z\"/>\n",
              "  </svg>\n",
              "    </button>\n",
              "\n",
              "  <style>\n",
              "    .colab-df-container {\n",
              "      display:flex;\n",
              "      gap: 12px;\n",
              "    }\n",
              "\n",
              "    .colab-df-convert {\n",
              "      background-color: #E8F0FE;\n",
              "      border: none;\n",
              "      border-radius: 50%;\n",
              "      cursor: pointer;\n",
              "      display: none;\n",
              "      fill: #1967D2;\n",
              "      height: 32px;\n",
              "      padding: 0 0 0 0;\n",
              "      width: 32px;\n",
              "    }\n",
              "\n",
              "    .colab-df-convert:hover {\n",
              "      background-color: #E2EBFA;\n",
              "      box-shadow: 0px 1px 2px rgba(60, 64, 67, 0.3), 0px 1px 3px 1px rgba(60, 64, 67, 0.15);\n",
              "      fill: #174EA6;\n",
              "    }\n",
              "\n",
              "    .colab-df-buttons div {\n",
              "      margin-bottom: 4px;\n",
              "    }\n",
              "\n",
              "    [theme=dark] .colab-df-convert {\n",
              "      background-color: #3B4455;\n",
              "      fill: #D2E3FC;\n",
              "    }\n",
              "\n",
              "    [theme=dark] .colab-df-convert:hover {\n",
              "      background-color: #434B5C;\n",
              "      box-shadow: 0px 1px 3px 1px rgba(0, 0, 0, 0.15);\n",
              "      filter: drop-shadow(0px 1px 2px rgba(0, 0, 0, 0.3));\n",
              "      fill: #FFFFFF;\n",
              "    }\n",
              "  </style>\n",
              "\n",
              "    <script>\n",
              "      const buttonEl =\n",
              "        document.querySelector('#df-bfd5f6e2-eb17-4dd1-8fd8-807a241672e2 button.colab-df-convert');\n",
              "      buttonEl.style.display =\n",
              "        google.colab.kernel.accessAllowed ? 'block' : 'none';\n",
              "\n",
              "      async function convertToInteractive(key) {\n",
              "        const element = document.querySelector('#df-bfd5f6e2-eb17-4dd1-8fd8-807a241672e2');\n",
              "        const dataTable =\n",
              "          await google.colab.kernel.invokeFunction('convertToInteractive',\n",
              "                                                    [key], {});\n",
              "        if (!dataTable) return;\n",
              "\n",
              "        const docLinkHtml = 'Like what you see? Visit the ' +\n",
              "          '<a target=\"_blank\" href=https://colab.research.google.com/notebooks/data_table.ipynb>data table notebook</a>'\n",
              "          + ' to learn more about interactive tables.';\n",
              "        element.innerHTML = '';\n",
              "        dataTable['output_type'] = 'display_data';\n",
              "        await google.colab.output.renderOutput(dataTable, element);\n",
              "        const docLink = document.createElement('div');\n",
              "        docLink.innerHTML = docLinkHtml;\n",
              "        element.appendChild(docLink);\n",
              "      }\n",
              "    </script>\n",
              "  </div>\n",
              "\n",
              "\n",
              "<div id=\"df-7c038ff7-6ccc-4f12-aa18-e18fb4f2306d\">\n",
              "  <button class=\"colab-df-quickchart\" onclick=\"quickchart('df-7c038ff7-6ccc-4f12-aa18-e18fb4f2306d')\"\n",
              "            title=\"Suggest charts\"\n",
              "            style=\"display:none;\">\n",
              "\n",
              "<svg xmlns=\"http://www.w3.org/2000/svg\" height=\"24px\"viewBox=\"0 0 24 24\"\n",
              "     width=\"24px\">\n",
              "    <g>\n",
              "        <path d=\"M19 3H5c-1.1 0-2 .9-2 2v14c0 1.1.9 2 2 2h14c1.1 0 2-.9 2-2V5c0-1.1-.9-2-2-2zM9 17H7v-7h2v7zm4 0h-2V7h2v10zm4 0h-2v-4h2v4z\"/>\n",
              "    </g>\n",
              "</svg>\n",
              "  </button>\n",
              "\n",
              "<style>\n",
              "  .colab-df-quickchart {\n",
              "      --bg-color: #E8F0FE;\n",
              "      --fill-color: #1967D2;\n",
              "      --hover-bg-color: #E2EBFA;\n",
              "      --hover-fill-color: #174EA6;\n",
              "      --disabled-fill-color: #AAA;\n",
              "      --disabled-bg-color: #DDD;\n",
              "  }\n",
              "\n",
              "  [theme=dark] .colab-df-quickchart {\n",
              "      --bg-color: #3B4455;\n",
              "      --fill-color: #D2E3FC;\n",
              "      --hover-bg-color: #434B5C;\n",
              "      --hover-fill-color: #FFFFFF;\n",
              "      --disabled-bg-color: #3B4455;\n",
              "      --disabled-fill-color: #666;\n",
              "  }\n",
              "\n",
              "  .colab-df-quickchart {\n",
              "    background-color: var(--bg-color);\n",
              "    border: none;\n",
              "    border-radius: 50%;\n",
              "    cursor: pointer;\n",
              "    display: none;\n",
              "    fill: var(--fill-color);\n",
              "    height: 32px;\n",
              "    padding: 0;\n",
              "    width: 32px;\n",
              "  }\n",
              "\n",
              "  .colab-df-quickchart:hover {\n",
              "    background-color: var(--hover-bg-color);\n",
              "    box-shadow: 0 1px 2px rgba(60, 64, 67, 0.3), 0 1px 3px 1px rgba(60, 64, 67, 0.15);\n",
              "    fill: var(--button-hover-fill-color);\n",
              "  }\n",
              "\n",
              "  .colab-df-quickchart-complete:disabled,\n",
              "  .colab-df-quickchart-complete:disabled:hover {\n",
              "    background-color: var(--disabled-bg-color);\n",
              "    fill: var(--disabled-fill-color);\n",
              "    box-shadow: none;\n",
              "  }\n",
              "\n",
              "  .colab-df-spinner {\n",
              "    border: 2px solid var(--fill-color);\n",
              "    border-color: transparent;\n",
              "    border-bottom-color: var(--fill-color);\n",
              "    animation:\n",
              "      spin 1s steps(1) infinite;\n",
              "  }\n",
              "\n",
              "  @keyframes spin {\n",
              "    0% {\n",
              "      border-color: transparent;\n",
              "      border-bottom-color: var(--fill-color);\n",
              "      border-left-color: var(--fill-color);\n",
              "    }\n",
              "    20% {\n",
              "      border-color: transparent;\n",
              "      border-left-color: var(--fill-color);\n",
              "      border-top-color: var(--fill-color);\n",
              "    }\n",
              "    30% {\n",
              "      border-color: transparent;\n",
              "      border-left-color: var(--fill-color);\n",
              "      border-top-color: var(--fill-color);\n",
              "      border-right-color: var(--fill-color);\n",
              "    }\n",
              "    40% {\n",
              "      border-color: transparent;\n",
              "      border-right-color: var(--fill-color);\n",
              "      border-top-color: var(--fill-color);\n",
              "    }\n",
              "    60% {\n",
              "      border-color: transparent;\n",
              "      border-right-color: var(--fill-color);\n",
              "    }\n",
              "    80% {\n",
              "      border-color: transparent;\n",
              "      border-right-color: var(--fill-color);\n",
              "      border-bottom-color: var(--fill-color);\n",
              "    }\n",
              "    90% {\n",
              "      border-color: transparent;\n",
              "      border-bottom-color: var(--fill-color);\n",
              "    }\n",
              "  }\n",
              "</style>\n",
              "\n",
              "  <script>\n",
              "    async function quickchart(key) {\n",
              "      const quickchartButtonEl =\n",
              "        document.querySelector('#' + key + ' button');\n",
              "      quickchartButtonEl.disabled = true;  // To prevent multiple clicks.\n",
              "      quickchartButtonEl.classList.add('colab-df-spinner');\n",
              "      try {\n",
              "        const charts = await google.colab.kernel.invokeFunction(\n",
              "            'suggestCharts', [key], {});\n",
              "      } catch (error) {\n",
              "        console.error('Error during call to suggestCharts:', error);\n",
              "      }\n",
              "      quickchartButtonEl.classList.remove('colab-df-spinner');\n",
              "      quickchartButtonEl.classList.add('colab-df-quickchart-complete');\n",
              "    }\n",
              "    (() => {\n",
              "      let quickchartButtonEl =\n",
              "        document.querySelector('#df-7c038ff7-6ccc-4f12-aa18-e18fb4f2306d button');\n",
              "      quickchartButtonEl.style.display =\n",
              "        google.colab.kernel.accessAllowed ? 'block' : 'none';\n",
              "    })();\n",
              "  </script>\n",
              "</div>\n",
              "\n",
              "    </div>\n",
              "  </div>\n"
            ]
          },
          "metadata": {},
          "execution_count": 3
        }
      ]
    },
    {
      "cell_type": "markdown",
      "source": [
        "Q1. Before looking at the data, what features do you think will be most important for predicting churn, and why?"
      ],
      "metadata": {
        "id": "Ip8LtoGoA1gl"
      }
    },
    {
      "cell_type": "markdown",
      "source": [
        "I think \"customer_id\" will be the most important because this is the unique feature that can allow me to calculate the churn rate by dividing the total number of customer at the end of the period with total number of the customer at the begining of the period."
      ],
      "metadata": {
        "id": "A2vuNqnfBSBa"
      }
    },
    {
      "cell_type": "markdown",
      "source": [
        "Q2. What percent of customers churn?"
      ],
      "metadata": {
        "id": "rNL4yDDyB370"
      }
    },
    {
      "cell_type": "code",
      "source": [
        "import pandas as pd\n",
        "\n",
        "# Load the data\n",
        "url_with_data = \"https://mattgroh.com/data/assignment1_customerdata.csv\"\n",
        "df = pd.read_csv(url_with_data)\n",
        "\n",
        "# Assuming 'churn' is the column representing whether a customer has churned\n",
        "churned_customers = df[df['churn'] == 1].shape[0]\n",
        "total_customers = df.shape[0]\n",
        "\n",
        "# Calculate the churn rate\n",
        "churn_rate = churned_customers / total_customers\n",
        "\n",
        "# Print the churn rate\n",
        "print(f\"The churn rate is: {churn_rate * 100:.2f}%\")"
      ],
      "metadata": {
        "colab": {
          "base_uri": "https://localhost:8080/"
        },
        "id": "zXwauf5TB7iw",
        "outputId": "e6b51ae0-77f6-432c-f9fc-23e38f6a8328"
      },
      "execution_count": 5,
      "outputs": [
        {
          "output_type": "stream",
          "name": "stdout",
          "text": [
            "The churn rate is: 26.54%\n"
          ]
        }
      ]
    },
    {
      "cell_type": "markdown",
      "source": [
        "Q3. How accurately could you predict customer churn with random guessing?"
      ],
      "metadata": {
        "id": "0FA95COKCWvg"
      }
    },
    {
      "cell_type": "markdown",
      "source": [
        "If the industry has a churn rate that is consistent then it might be possible to predict the churn rate with 60%-70% accuracy, or else it is very unlikely to predict the churn rate accurately."
      ],
      "metadata": {
        "id": "NVvby2DfCbSK"
      }
    },
    {
      "cell_type": "markdown",
      "source": [
        "Q4. What percent of senior citizens churn?"
      ],
      "metadata": {
        "id": "3-aEx8q-C9J3"
      }
    },
    {
      "cell_type": "code",
      "source": [
        "import pandas as pd\n",
        "\n",
        "# Load the data\n",
        "url_with_data = \"https://mattgroh.com/data/assignment1_customerdata.csv\"\n",
        "df = pd.read_csv(url_with_data)\n",
        "\n",
        "# Assuming 'churn' is the column representing whether a customer has churned\n",
        "# Assuming 'senior_citizen' is the column representing whether a customer is a senior citizen\n",
        "senior_churned_customers = df[(df['churn'] == 1) & (df['senior_citizen'] == 1)].shape[0]\n",
        "total_senior_customers = df[df['senior_citizen'] == 1].shape[0]\n",
        "\n",
        "# Calculate the churn rate for senior citizens\n",
        "senior_churn_rate = senior_churned_customers / total_senior_customers\n",
        "\n",
        "# Print the churn rate for senior citizens\n",
        "print(f\"The churn rate for senior citizens is: {senior_churn_rate * 100:.2f}%\")"
      ],
      "metadata": {
        "colab": {
          "base_uri": "https://localhost:8080/"
        },
        "id": "uwYDia0EC-zz",
        "outputId": "a9b9f404-3c4a-497d-b35e-76ddad4e1dc9"
      },
      "execution_count": 6,
      "outputs": [
        {
          "output_type": "stream",
          "name": "stdout",
          "text": [
            "The churn rate for senior citizens is: 41.68%\n"
          ]
        }
      ]
    },
    {
      "cell_type": "markdown",
      "source": [
        "Q5. Split the data into a training set with 80% of the data and a test set with 20% of the data.\n",
        "How accurately can you predict churn with a linear regression? What about with a\n",
        "random forest?"
      ],
      "metadata": {
        "id": "2MtY9JM0DGHu"
      }
    },
    {
      "cell_type": "code",
      "source": [
        "import pandas as pd\n",
        "from sklearn.model_selection import train_test_split\n",
        "\n",
        "# Load the data\n",
        "url_with_data = \"https://mattgroh.com/data/assignment1_customerdata.csv\"\n",
        "df = pd.read_csv(url_with_data)\n",
        "\n",
        "# Assuming 'churn' is the column representing whether a customer has churned\n",
        "# Assuming other_columns is a list of other feature columns in your dataset\n",
        "\n",
        "# Selecting features and target variable\n",
        "numerical_columns = df.select_dtypes(include='number').columns\n",
        "other_columns = numerical_columns.drop(['churn'])\n",
        "X = df[other_columns]  # Features\n",
        "y = df['churn']  # Target variable\n",
        "\n",
        "# Split the data into a training set (80%) and a test set (20%)\n",
        "X_train, X_test, y_train, y_test = train_test_split(X, y, test_size=0.2, random_state=42)\n",
        "\n",
        "# Print the shapes of the resulting sets\n",
        "print(f\"Shape of X_train: {X_train.shape}\")\n",
        "print(f\"Shape of X_test: {X_test.shape}\")\n",
        "print(f\"Shape of y_train: {y_train.shape}\")\n",
        "print(f\"Shape of y_test: {y_test.shape}\")"
      ],
      "metadata": {
        "colab": {
          "base_uri": "https://localhost:8080/"
        },
        "id": "avKP3aOaDIyt",
        "outputId": "3fe6999c-41a6-4420-e882-c09d48822c34"
      },
      "execution_count": 7,
      "outputs": [
        {
          "output_type": "stream",
          "name": "stdout",
          "text": [
            "Shape of X_train: (5634, 22)\n",
            "Shape of X_test: (1409, 22)\n",
            "Shape of y_train: (5634,)\n",
            "Shape of y_test: (1409,)\n"
          ]
        }
      ]
    },
    {
      "cell_type": "code",
      "source": [
        "#Linear Regression\n",
        "from sklearn.linear_model import LinearRegression\n",
        "from sklearn.metrics import mean_squared_error\n",
        "\n",
        "# Initialize the linear regression model\n",
        "linear_model = LinearRegression()\n",
        "\n",
        "# Train the model on the training set\n",
        "linear_model.fit(X_train, y_train)\n",
        "\n",
        "# Predict churn on the test set\n",
        "linear_predictions = linear_model.predict(X_test)\n",
        "\n",
        "# Calculate and print the mean squared error\n",
        "linear_mse = mean_squared_error(y_test, linear_predictions)\n",
        "print(f\"Linear Regression Mean Squared Error: {linear_mse}\")\n",
        "\n",
        "# Calculate and print the predicted churn rate\n",
        "linear_churn_rate = linear_predictions.mean()\n",
        "print(f\"Linear Regression Predicted Churn Rate: {linear_churn_rate * 100:.2f}%\")"
      ],
      "metadata": {
        "colab": {
          "base_uri": "https://localhost:8080/"
        },
        "id": "cXFAxCasA1Dd",
        "outputId": "81efc455-b017-4dbb-c04a-a44be08a411f"
      },
      "execution_count": 9,
      "outputs": [
        {
          "output_type": "stream",
          "name": "stdout",
          "text": [
            "Linear Regression Mean Squared Error: 0.1378752313221354\n",
            "Linear Regression Predicted Churn Rate: 26.27%\n"
          ]
        }
      ]
    },
    {
      "cell_type": "code",
      "source": [
        "#Random Forest\n",
        "from sklearn.ensemble import RandomForestRegressor\n",
        "\n",
        "# Initialize the random forest model\n",
        "rf_model = RandomForestRegressor(random_state=42)\n",
        "\n",
        "# Train the model on the training set\n",
        "rf_model.fit(X_train, y_train)\n",
        "\n",
        "# Predict churn on the test set\n",
        "rf_predictions = rf_model.predict(X_test)\n",
        "\n",
        "# Calculate and print the mean squared error\n",
        "rf_mse = mean_squared_error(y_test, rf_predictions)\n",
        "print(f\"Random Forest Mean Squared Error: {rf_mse}\")\n",
        "\n",
        "# Calculate and print the predicted churn rate\n",
        "rf_churn_rate = rf_predictions.mean()\n",
        "print(f\"Random Forest Predicted Churn Rate: {rf_churn_rate * 100:.2f}%\")"
      ],
      "metadata": {
        "colab": {
          "base_uri": "https://localhost:8080/"
        },
        "id": "kRMr-ACnD20F",
        "outputId": "bc3bf573-2e57-4756-a676-f48a9ef84e69"
      },
      "execution_count": 10,
      "outputs": [
        {
          "output_type": "stream",
          "name": "stdout",
          "text": [
            "Random Forest Mean Squared Error: 0.1416845990063875\n",
            "Random Forest Predicted Churn Rate: 27.32%\n"
          ]
        }
      ]
    },
    {
      "cell_type": "markdown",
      "source": [
        "Both methods provide highly accurate result, within ±1% of the correct churn rate - 26.54%"
      ],
      "metadata": {
        "id": "vaKGP-azEBuR"
      }
    },
    {
      "cell_type": "markdown",
      "source": [
        "Q6. What features did you use to predict churn?"
      ],
      "metadata": {
        "id": "YBEpEsG7EQoi"
      }
    },
    {
      "cell_type": "markdown",
      "source": [
        "I use 'gender'\n",
        "'senior_citizen'\n",
        "'partner'\n",
        "'dependents'\n",
        "'tenure'\n",
        "'phone_service'\n",
        "'multiple_lines'\n",
        "'internet_service'\n",
        "'online_security'\n",
        "'online_backup'\n",
        "'device_protection'\n",
        "'tech_support'\n",
        "'streaming_tv'\n",
        "'streaming_movies'\n",
        "'contract'\n",
        "'paperless_billing'\n",
        "'payment_method'\n",
        "'monthly_charges'\n",
        "'total_charges'"
      ],
      "metadata": {
        "id": "vNbZKe1sEa-E"
      }
    },
    {
      "cell_type": "markdown",
      "source": [
        "Q7. What are the most important features for predicting churn with a linear regression (share\n",
        "the top three in order of importance)? What about with a random forest (share the top\n",
        "three in order of importance)?"
      ],
      "metadata": {
        "id": "OD6XED62Gjx-"
      }
    },
    {
      "cell_type": "code",
      "source": [
        "#Linear Regression\n",
        "from sklearn.linear_model import LinearRegression\n",
        "import pandas as pd\n",
        "\n",
        "# Assuming 'df' is your original DataFrame\n",
        "df_encoded = pd.get_dummies(df, columns=['gender', 'partner', 'dependents', 'multiple_lines', 'internet_service', 'online_security', 'online_backup', 'device_protection', 'tech_support', 'streaming_tv', 'streaming_movies', 'contract', 'paperless_billing', 'payment_method'], drop_first=True)\n",
        "\n",
        "# Assuming 'df_encoded' is the DataFrame with one-hot encoded categorical variables\n",
        "X_linear = df_encoded.drop(['customer_id', 'churn'], axis=1)  # Features\n",
        "y_linear = df_encoded['churn']  # Target variable\n",
        "\n",
        "# Initialize the linear regression model\n",
        "linear_model = LinearRegression()\n",
        "\n",
        "# Train the model on the entire dataset\n",
        "linear_model.fit(X_linear, y_linear)\n",
        "\n",
        "# Get feature coefficients\n",
        "linear_coefficients = linear_model.coef_\n",
        "\n",
        "# Pair features with coefficients\n",
        "feature_coefficients_linear = list(zip(X_linear.columns, linear_coefficients))\n",
        "\n",
        "# Sort features by absolute coefficient value in descending order\n",
        "sorted_feature_coefficients_linear = sorted(feature_coefficients_linear, key=lambda x: abs(x[1]), reverse=True)\n",
        "\n",
        "# Print the top three features for Linear Regression\n",
        "print(\"Top three features for Linear Regression:\")\n",
        "for feature, coefficient in sorted_feature_coefficients_linear[:3]:\n",
        "    print(f\"{feature}: {coefficient}\")"
      ],
      "metadata": {
        "id": "v6Uwcy70Gm8i",
        "outputId": "8da77a00-9b06-477d-936d-51145532cef1",
        "colab": {
          "base_uri": "https://localhost:8080/"
        }
      },
      "execution_count": 13,
      "outputs": [
        {
          "output_type": "stream",
          "name": "stdout",
          "text": [
            "Top three features for Linear Regression:\n",
            "internet_service_1: 0.20799661763614347\n",
            "contract_1: -0.10696962096181677\n",
            "payment_method_2: 0.07053740110483078\n"
          ]
        }
      ]
    },
    {
      "cell_type": "code",
      "source": [
        "#Random Forest\n",
        "from sklearn.ensemble import RandomForestRegressor\n",
        "import pandas as pd\n",
        "\n",
        "# Assuming 'df' is the original DataFrame with categorical variables\n",
        "df_encoded_rf = pd.get_dummies(df, columns=['gender', 'partner', 'dependents', 'multiple_lines', 'internet_service', 'online_security', 'online_backup', 'device_protection', 'tech_support', 'streaming_tv', 'streaming_movies', 'contract', 'paperless_billing', 'payment_method'], drop_first=True)\n",
        "\n",
        "# Assuming 'df_encoded_rf' is the DataFrame with one-hot encoded categorical variables\n",
        "X_rf = df_encoded_rf.drop(['customer_id', 'churn'], axis=1)  # Features\n",
        "y_rf = df_encoded_rf['churn']  # Target variable\n",
        "\n",
        "# Initialize the random forest model\n",
        "rf_model = RandomForestRegressor(random_state=42)\n",
        "\n",
        "# Train the model on the entire dataset\n",
        "rf_model.fit(X_rf, y_rf)\n",
        "\n",
        "# Get feature importances\n",
        "rf_importances = rf_model.feature_importances_\n",
        "\n",
        "# Pair features with importances\n",
        "feature_importances_rf = list(zip(X_rf.columns, rf_importances))\n",
        "\n",
        "# Sort features by importance in descending order\n",
        "sorted_feature_importances_rf = sorted(feature_importances_rf, key=lambda x: x[1], reverse=True)\n",
        "\n",
        "# Print the top three features for Random Forest\n",
        "print(\"\\nTop three features for Random Forest:\")\n",
        "for feature, importance in sorted_feature_importances_rf[:3]:\n",
        "    print(f\"{feature}: {importance}\")"
      ],
      "metadata": {
        "id": "So5CzV2DHIu5",
        "outputId": "4149c2b4-d8ab-46a0-86e6-6891fc416934",
        "colab": {
          "base_uri": "https://localhost:8080/"
        }
      },
      "execution_count": 14,
      "outputs": [
        {
          "output_type": "stream",
          "name": "stdout",
          "text": [
            "\n",
            "Top three features for Random Forest:\n",
            "tenure: 0.19878364589530456\n",
            "total_charges: 0.12452396728663478\n",
            "monthly_charges: 0.12347048641612862\n"
          ]
        }
      ]
    },
    {
      "cell_type": "markdown",
      "source": [
        "Q8. How often did your predictions beat \"Model A\"? What about \"Model B\"? These\n",
        "predictions are found in the last two columns of the .csv."
      ],
      "metadata": {
        "id": "AaKlDHp2HPqG"
      }
    },
    {
      "cell_type": "code",
      "source": [],
      "metadata": {
        "id": "N5pP4iJcG23B"
      },
      "execution_count": null,
      "outputs": []
    },
    {
      "cell_type": "code",
      "source": [],
      "metadata": {
        "id": "Pe8dqW3kpnBK"
      },
      "execution_count": null,
      "outputs": []
    }
  ]
}